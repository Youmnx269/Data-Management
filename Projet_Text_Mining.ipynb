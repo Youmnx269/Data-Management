{
 "cells": [
  {
   "cell_type": "markdown",
   "id": "ce797660",
   "metadata": {},
   "source": [
    "# Text Mining\n",
    "Classification de Textes\n",
    "Dans ce projet de Text Mining, nous allons classer des articles de presse et plus précisement essayer de détecter s'ils parlent de business ou non. C'est une tâche de **classification supervisée binaire**.\n",
    "\n",
    "La base est disponnible sur le site de kaggle, c'est une base extraite de BBC News Archive : https://www.kaggle.com/datasets/hgultekin/bbcnewsarchive"
   ]
  },
  {
   "cell_type": "markdown",
   "id": "fbf8076b",
   "metadata": {},
   "source": [
    "# Import des librairies utiles au module\n"
   ]
  },
  {
   "cell_type": "code",
   "execution_count": 4,
   "id": "6cf6eece",
   "metadata": {},
   "outputs": [],
   "source": [
    "# Pour le data management \n",
    "import pandas as pd\n",
    "import numpy as np\n",
    "\n",
    "# Pour le pré processing\n",
    "from unidecode import unidecode\n",
    "import re\n",
    "from nltk.stem import SnowballStemmer\n",
    "\n",
    "# Les bigrammes\n",
    "from collections import Counter\n",
    "from nltk.util import ngrams\n",
    "\n",
    "# Pour la vectorisation\n",
    "from sklearn.feature_extraction.text import TfidfVectorizer \n",
    "\n",
    "# Pour la modélisation\n",
    "from sklearn.model_selection import train_test_split\n",
    "from sklearn.metrics import f1_score, recall_score, precision_score\n",
    "\n",
    "from sklearn.naive_bayes import GaussianNB"
   ]
  },
  {
   "cell_type": "code",
   "execution_count": null,
   "id": "533613d5",
   "metadata": {},
   "outputs": [],
   "source": [
    "1. Découverte et exploration des données¶\n",
    "1.1. Import de la base\n",
    "La base contient 2225 articles et 4 variables :\n",
    "\n",
    "category : Le type d'article rédigé. il servira à la création de la cible à partir de cette variable.\n",
    "content : Le contenu de l'article.\n",
    "nom de fichier : Nom de fichier original qui contient le contenu de la nouvelle correspondante.\n",
    "title : Le titre de l'article\n"
   ]
  },
  {
   "cell_type": "code",
   "execution_count": 11,
   "id": "63fca1a0",
   "metadata": {},
   "outputs": [
    {
     "name": "stdout",
     "output_type": "stream",
     "text": [
      "la table fait 2225 lignes et 4 colonnes\n"
     ]
    },
    {
     "data": {
      "text/html": [
       "<div>\n",
       "<style scoped>\n",
       "    .dataframe tbody tr th:only-of-type {\n",
       "        vertical-align: middle;\n",
       "    }\n",
       "\n",
       "    .dataframe tbody tr th {\n",
       "        vertical-align: top;\n",
       "    }\n",
       "\n",
       "    .dataframe thead th {\n",
       "        text-align: right;\n",
       "    }\n",
       "</style>\n",
       "<table border=\"1\" class=\"dataframe\">\n",
       "  <thead>\n",
       "    <tr style=\"text-align: right;\">\n",
       "      <th></th>\n",
       "      <th>category</th>\n",
       "      <th>filename</th>\n",
       "      <th>title</th>\n",
       "      <th>content</th>\n",
       "    </tr>\n",
       "  </thead>\n",
       "  <tbody>\n",
       "    <tr>\n",
       "      <th>0</th>\n",
       "      <td>business</td>\n",
       "      <td>001.txt</td>\n",
       "      <td>Ad sales boost Time Warner profit</td>\n",
       "      <td>Quarterly profits at US media giant TimeWarne...</td>\n",
       "    </tr>\n",
       "    <tr>\n",
       "      <th>1</th>\n",
       "      <td>business</td>\n",
       "      <td>002.txt</td>\n",
       "      <td>Dollar gains on Greenspan speech</td>\n",
       "      <td>The dollar has hit its highest level against ...</td>\n",
       "    </tr>\n",
       "    <tr>\n",
       "      <th>2</th>\n",
       "      <td>business</td>\n",
       "      <td>003.txt</td>\n",
       "      <td>Yukos unit buyer faces loan claim</td>\n",
       "      <td>The owners of embattled Russian oil giant Yuk...</td>\n",
       "    </tr>\n",
       "    <tr>\n",
       "      <th>3</th>\n",
       "      <td>business</td>\n",
       "      <td>004.txt</td>\n",
       "      <td>High fuel prices hit BA's profits</td>\n",
       "      <td>British Airways has blamed high fuel prices f...</td>\n",
       "    </tr>\n",
       "    <tr>\n",
       "      <th>4</th>\n",
       "      <td>business</td>\n",
       "      <td>005.txt</td>\n",
       "      <td>Pernod takeover talk lifts Domecq</td>\n",
       "      <td>Shares in UK drinks and food firm Allied Dome...</td>\n",
       "    </tr>\n",
       "  </tbody>\n",
       "</table>\n",
       "</div>"
      ],
      "text/plain": [
       "   category filename                              title  \\\n",
       "0  business  001.txt  Ad sales boost Time Warner profit   \n",
       "1  business  002.txt   Dollar gains on Greenspan speech   \n",
       "2  business  003.txt  Yukos unit buyer faces loan claim   \n",
       "3  business  004.txt  High fuel prices hit BA's profits   \n",
       "4  business  005.txt  Pernod takeover talk lifts Domecq   \n",
       "\n",
       "                                             content  \n",
       "0   Quarterly profits at US media giant TimeWarne...  \n",
       "1   The dollar has hit its highest level against ...  \n",
       "2   The owners of embattled Russian oil giant Yuk...  \n",
       "3   British Airways has blamed high fuel prices f...  \n",
       "4   Shares in UK drinks and food firm Allied Dome...  "
      ]
     },
     "execution_count": 11,
     "metadata": {},
     "output_type": "execute_result"
    }
   ],
   "source": [
    "##df = pd.read_csv('bbc-news-data.csv')\n",
    "df = pd.read_csv(\"bbc-news-data.csv\", delimiter='\\t')\n",
    "\n",
    "print(f\"la table fait {df.shape[0]} lignes et {df.shape[1]} colonnes\" )\n",
    "\n",
    "df.head()"
   ]
  },
  {
   "cell_type": "markdown",
   "id": "97fe4ec7",
   "metadata": {},
   "source": [
    "Vérifions le type de données sur laquelle on travaille et si la base contient des valeurs manquantes."
   ]
  },
  {
   "cell_type": "code",
   "execution_count": 13,
   "id": "4e1b704a",
   "metadata": {},
   "outputs": [
    {
     "name": "stdout",
     "output_type": "stream",
     "text": [
      "<class 'pandas.core.frame.DataFrame'>\n",
      "RangeIndex: 2225 entries, 0 to 2224\n",
      "Data columns (total 4 columns):\n",
      " #   Column    Non-Null Count  Dtype \n",
      "---  ------    --------------  ----- \n",
      " 0   category  2225 non-null   object\n",
      " 1   filename  2225 non-null   object\n",
      " 2   title     2225 non-null   object\n",
      " 3   content   2225 non-null   object\n",
      "dtypes: object(4)\n",
      "memory usage: 69.7+ KB\n"
     ]
    }
   ],
   "source": [
    "df.info()"
   ]
  },
  {
   "cell_type": "markdown",
   "id": "79624916",
   "metadata": {},
   "source": [
    "1.2. Rapide nettoyage de la base\n",
    "On remarque que la base ne contient pas de données manquantes. Donc pas besoin de nettoyer la base. On peut passer cette étape"
   ]
  },
  {
   "cell_type": "markdown",
   "id": "3bc9387c",
   "metadata": {},
   "source": [
    "1.3. Rapide exploration des données¶\n",
    "\n",
    "Répartition de la colonne cible et préparation\n",
    "l'objectif ici est d'entrainer un classifieur capable de détecter si l'article est un article de business.\n",
    "\n",
    "Cette information est contenue dans la variable category."
   ]
  },
  {
   "cell_type": "code",
   "execution_count": 14,
   "id": "3818dd74",
   "metadata": {},
   "outputs": [
    {
     "data": {
      "text/plain": [
       "category\n",
       "sport            0.229663\n",
       "business         0.229213\n",
       "politics         0.187416\n",
       "tech             0.180225\n",
       "entertainment    0.173483\n",
       "Name: proportion, dtype: float64"
      ]
     },
     "execution_count": 14,
     "metadata": {},
     "output_type": "execute_result"
    }
   ],
   "source": [
    "###Fréquence d'apparition de chaque mot de 'category' en pourcentage \n",
    "df.category.value_counts(normalize=True)\n"
   ]
  },
  {
   "cell_type": "markdown",
   "id": "f781508e",
   "metadata": {},
   "source": [
    "Le taux de cible pour ce projet est d'environ 23% (business)"
   ]
  },
  {
   "cell_type": "code",
   "execution_count": 17,
   "id": "3c461372",
   "metadata": {},
   "outputs": [
    {
     "data": {
      "text/plain": [
       "business\n",
       "0    0.770787\n",
       "1    0.229213\n",
       "Name: proportion, dtype: float64"
      ]
     },
     "execution_count": 17,
     "metadata": {},
     "output_type": "execute_result"
    }
   ],
   "source": [
    "###Créer une colonne 'business' qui est égale à 1 si category est 'business' sinon 0\n",
    "df['business'] = df['category'].apply(lambda category: 1 if category == 'business' else 0)\n",
    "###Calculer la fréquence de 0 & 1 dans cette nouvelle colonne en pourcentage \n",
    "df['business'].value_counts(normalize=True)"
   ]
  },
  {
   "cell_type": "markdown",
   "id": "1e71dbad",
   "metadata": {},
   "source": [
    "Visualisation d'un exemple d'article de chaque type¶\n",
    "\n",
    "Comme pour les données \"plus classiques\", lorsqu'on travaille sur des textes, il est important d'explorer les données.\n",
    "Cela peut donner des idées de features, et permet d'éviter certains pièges, etc..."
   ]
  },
  {
   "cell_type": "code",
   "execution_count": 18,
   "id": "f8c1bcf1",
   "metadata": {},
   "outputs": [
    {
     "name": "stdout",
     "output_type": "stream",
     "text": [
      "####### Articles business #######\n",
      "La base contient 510 articles - Exemple du 1er article : \n",
      "Titre - Ad sales boost Time Warner profit \n",
      "\n",
      " Quarterly profits at US media giant TimeWarner jumped 76% to $1.13bn (£600m) for the three months to December, from $639m year-earlier.  The firm, which is now one of the biggest investors in Google, benefited from sales of high-speed internet connections and higher advert sales. TimeWarner said fourth quarter sales rose 2% to $11.1bn from $10.9bn. Its profits were buoyed by one-off gains which offset a profit dip at Warner Bros, and less users for AOL.  Time Warner said on Friday that it now owns 8% of search-engine Google. But its own internet business, AOL, had has mixed fortunes. It lost 464,000 subscribers in the fourth quarter profits were lower than in the preceding three quarters. However, the company said AOL's underlying profit before exceptional items rose 8% on the back of stronger internet advertising revenues. It hopes to increase subscribers by offering the online service free to TimeWarner internet customers and will try to sign up AOL's existing customers for high-speed broadband. TimeWarner also has to restate 2000 and 2003 results following a probe by the US Securities Exchange Commission (SEC), which is close to concluding.  Time Warner's fourth quarter profits were slightly better than analysts' expectations. But its film division saw profits slump 27% to $284m, helped by box-office flops Alexander and Catwoman, a sharp contrast to year-earlier, when the third and final film in the Lord of the Rings trilogy boosted results. For the full-year, TimeWarner posted a profit of $3.36bn, up 27% from its 2003 performance, while revenues grew 6.4% to $42.09bn. \"Our financial performance was strong, meeting or exceeding all of our full-year objectives and greatly enhancing our flexibility,\" chairman and chief executive Richard Parsons said. For 2005, TimeWarner is projecting operating earnings growth of around 5%, and also expects higher revenue and wider profit margins.  TimeWarner is to restate its accounts as part of efforts to resolve an inquiry into AOL by US market regulators. It has already offered to pay $300m to settle charges, in a deal that is under review by the SEC. The company said it was unable to estimate the amount it needed to set aside for legal reserves, which it previously set at $500m. It intends to adjust the way it accounts for a deal with German music publisher Bertelsmann's purchase of a stake in AOL Europe, which it had reported as advertising revenue. It will now book the sale of its stake in AOL Europe as a loss on the value of that stake. \n",
      "###################################\n",
      "\n",
      "\n",
      "####### Articles entertainment #######\n",
      "La base contient 386 articles - Exemple du 1er article : \n",
      "Titre - Gallery unveils interactive tree \n",
      "\n",
      " A Christmas tree that can receive text messages has been unveiled at London's Tate Britain art gallery.  The spruce has an antenna which can receive Bluetooth texts sent by visitors to the Tate. The messages will be \"unwrapped\" by sculptor Richard Wentworth, who is responsible for decorating the tree with broken plates and light bulbs. It is the 17th year that the gallery has invited an artist to dress their Christmas tree. Artists who have decorated the Tate tree in previous years include Tracey Emin in 2002.  The plain green Norway spruce is displayed in the gallery's foyer. Its light bulb adornments are dimmed, ordinary domestic ones joined together with string. The plates decorating the branches will be auctioned off for the children's charity ArtWorks. Wentworth worked as an assistant to sculptor Henry Moore in the late 1960s. His reputation as a sculptor grew in the 1980s, while he has been one of the most influential teachers during the last two decades. Wentworth is also known for his photography of mundane, everyday subjects such as a cigarette packet jammed under the wonky leg of a table. \n",
      "###################################\n",
      "\n",
      "\n",
      "####### Articles politics #######\n",
      "La base contient 417 articles - Exemple du 1er article : \n",
      "Titre - Labour plans maternity pay rise \n",
      "\n",
      " Maternity pay for new mothers is to rise by £1,400 as part of new proposals announced by the Trade and Industry Secretary Patricia Hewitt.  It would mean paid leave would be increased to nine months by 2007, Ms Hewitt told GMTV's Sunday programme. Other plans include letting maternity pay be given to fathers and extending rights to parents of older children. The Tories dismissed the maternity pay plan as \"desperate\", while the Liberal Democrats said it was misdirected.  Ms Hewitt said: \"We have already doubled the length of maternity pay, it was 13 weeks when we were elected, we have already taken it up to 26 weeks. \"We are going to extend the pay to nine months by 2007 and the aim is to get it right up to the full 12 months by the end of the next Parliament.\" She said new mothers were already entitled to 12 months leave, but that many women could not take it as only six of those months were paid. \"We have made a firm commitment. We will definitely extend the maternity pay, from the six months where it now is to nine months, that's the extra £1,400.\" She said ministers would consult on other proposals that could see fathers being allowed to take some of their partner's maternity pay or leave period, or extending the rights of flexible working to carers or parents of older children. The Shadow Secretary of State for the Family, Theresa May, said: \"These plans were announced by Gordon Brown in his pre-budget review in December and Tony Blair is now recycling it in his desperate bid to win back women voters.\"  She said the Conservatives would announce their proposals closer to the General Election. Liberal Democrat spokeswoman for women Sandra Gidley said: \"While mothers would welcome any extra maternity pay the Liberal Democrats feel this money is being misdirected.\" She said her party would boost maternity pay in the first six months to allow more women to stay at home in that time.  Ms Hewitt also stressed the plans would be paid for by taxpayers, not employers. But David Frost, director general of the British Chambers of Commerce, warned that many small firms could be \"crippled\" by the move. \"While the majority of any salary costs may be covered by the government's statutory pay, recruitment costs, advertising costs, retraining costs and the strain on the company will not be,\" he said. Further details of the government's plans will be outlined on Monday. New mothers are currently entitled to 90% of average earnings for the first six weeks after giving birth, followed by £102.80 a week until the baby is six months old. \n",
      "###################################\n",
      "\n",
      "\n",
      "####### Articles sport #######\n",
      "La base contient 511 articles - Exemple du 1er article : \n",
      "Titre - Claxton hunting first major medal \n",
      "\n",
      " British hurdler Sarah Claxton is confident she can win her first major medal at next month's European Indoor Championships in Madrid.  The 25-year-old has already smashed the British record over 60m hurdles twice this season, setting a new mark of 7.96 seconds to win the AAAs title. \"I am quite confident,\" said Claxton. \"But I take each race as it comes. \"As long as I keep up my training but not do too much I think there is a chance of a medal.\" Claxton has won the national 60m hurdles title for the past three years but has struggled to translate her domestic success to the international stage. Now, the Scotland-born athlete owns the equal fifth-fastest time in the world this year. And at last week's Birmingham Grand Prix, Claxton left European medal favourite Russian Irina Shevchenko trailing in sixth spot.  For the first time, Claxton has only been preparing for a campaign over the hurdles - which could explain her leap in form. In previous seasons, the 25-year-old also contested the long jump but since moving from Colchester to London she has re-focused her attentions. Claxton will see if her new training regime pays dividends at the European Indoors which take place on 5-6 March. \n",
      "###################################\n",
      "\n",
      "\n",
      "####### Articles tech #######\n",
      "La base contient 401 articles - Exemple du 1er article : \n",
      "Titre - Ink helps drive democracy in Asia \n",
      "\n",
      " The Kyrgyz Republic, a small, mountainous state of the former Soviet republic, is using invisible ink and ultraviolet readers in the country's elections as part of a drive to prevent multiple voting.  This new technology is causing both worries and guarded optimism among different sectors of the population. In an effort to live up to its reputation in the 1990s as \"an island of democracy\", the Kyrgyz President, Askar Akaev, pushed through the law requiring the use of ink during the upcoming Parliamentary and Presidential elections. The US government agreed to fund all expenses associated with this decision.  The Kyrgyz Republic is seen by many experts as backsliding from the high point it reached in the mid-1990s with a hastily pushed through referendum in 2003, reducing the legislative branch to one chamber with 75 deputies. The use of ink is only one part of a general effort to show commitment towards more open elections - the German Embassy, the Soros Foundation and the Kyrgyz government have all contributed to purchase transparent ballot boxes.  The actual technology behind the ink is not that complicated. The ink is sprayed on a person's left thumb. It dries and is not visible under normal light.  However, the presence of ultraviolet light (of the kind used to verify money) causes the ink to glow with a neon yellow light. At the entrance to each polling station, one election official will scan voter's fingers with UV lamp before allowing them to enter, and every voter will have his/her left thumb sprayed with ink before receiving the ballot. If the ink shows under the UV light the voter will not be allowed to enter the polling station. Likewise, any voter who refuses to be inked will not receive the ballot. These elections are assuming even greater significance because of two large factors - the upcoming parliamentary elections are a prelude to a potentially regime changing presidential election in the Autumn as well as the echo of recent elections in other former Soviet Republics, notably Ukraine and Georgia. The use of ink has been controversial - especially among groups perceived to be pro-government.  Widely circulated articles compared the use of ink to the rural practice of marking sheep - a still common metaphor in this primarily agricultural society.  The author of one such article began a petition drive against the use of the ink. The greatest part of the opposition to ink has often been sheer ignorance. Local newspapers have carried stories that the ink is harmful, radioactive or even that the ultraviolet readers may cause health problems. Others, such as the aggressively middle of the road, Coalition of Non-governmental Organizations, have lauded the move as an important step forward. This type of ink has been used in many elections in the world, in countries as varied as Serbia, South Africa, Indonesia and Turkey. The other common type of ink in elections is indelible visible ink - but as the elections in Afghanistan showed, improper use of this type of ink can cause additional problems. The use of \"invisible\" ink is not without its own problems. In most elections, numerous rumors have spread about it.  In Serbia, for example, both Christian and Islamic leaders assured their populations that its use was not contrary to religion. Other rumours are associated with how to remove the ink - various soft drinks, solvents and cleaning products are put forward. However, in reality, the ink is very effective at getting under the cuticle of the thumb and difficult to wash off. The ink stays on the finger for at least 72 hours and for up to a week. The use of ink and readers by itself is not a panacea for election ills. The passage of the inking law is, nevertheless, a clear step forward towards free and fair elections.\" The country's widely watched parliamentary elections are scheduled for 27 February.  David Mikosz works for the IFES, an international, non-profit organisation that supports the building of democratic societies. \n",
      "###################################\n",
      "\n",
      "\n"
     ]
    }
   ],
   "source": [
    "for category in df['category'].unique():\n",
    "\n",
    "    print(f'####### Articles {category} #######')\n",
    "    print(f\"La base contient {df[df['category']==category].shape[0]} articles - Exemple du 1er article : \")\n",
    "    print(f\"Titre - {df[df['category']==category]['title'].tolist()[0]} \\n\\n{df[df['category']==category]['content'].tolist()[0]}\")\n",
    "    print('###################################')\n",
    "    print('\\n')"
   ]
  },
  {
   "cell_type": "markdown",
   "id": "d64c22ff",
   "metadata": {},
   "source": [
    "Remarques :\n",
    "\n",
    "De nombreux features peuvent être extrait des textes à des fins exploratoire ou de modélisation : les années, les noms prénoms, les unités, les heures, ..."
   ]
  },
  {
   "cell_type": "code",
   "execution_count": 20,
   "id": "f60c2c77",
   "metadata": {},
   "outputs": [
    {
     "data": {
      "text/html": [
       "<div>\n",
       "<style scoped>\n",
       "    .dataframe tbody tr th:only-of-type {\n",
       "        vertical-align: middle;\n",
       "    }\n",
       "\n",
       "    .dataframe tbody tr th {\n",
       "        vertical-align: top;\n",
       "    }\n",
       "\n",
       "    .dataframe thead th {\n",
       "        text-align: right;\n",
       "    }\n",
       "</style>\n",
       "<table border=\"1\" class=\"dataframe\">\n",
       "  <thead>\n",
       "    <tr style=\"text-align: right;\">\n",
       "      <th></th>\n",
       "      <th>category</th>\n",
       "      <th>filename</th>\n",
       "      <th>title</th>\n",
       "      <th>content</th>\n",
       "      <th>business</th>\n",
       "    </tr>\n",
       "  </thead>\n",
       "  <tbody>\n",
       "    <tr>\n",
       "      <th>0</th>\n",
       "      <td>business</td>\n",
       "      <td>001.txt</td>\n",
       "      <td>Ad sales boost Time Warner profit</td>\n",
       "      <td>Quarterly profits at US media giant TimeWarne...</td>\n",
       "      <td>1</td>\n",
       "    </tr>\n",
       "    <tr>\n",
       "      <th>1</th>\n",
       "      <td>business</td>\n",
       "      <td>002.txt</td>\n",
       "      <td>Dollar gains on Greenspan speech</td>\n",
       "      <td>The dollar has hit its highest level against ...</td>\n",
       "      <td>1</td>\n",
       "    </tr>\n",
       "    <tr>\n",
       "      <th>2</th>\n",
       "      <td>business</td>\n",
       "      <td>003.txt</td>\n",
       "      <td>Yukos unit buyer faces loan claim</td>\n",
       "      <td>The owners of embattled Russian oil giant Yuk...</td>\n",
       "      <td>1</td>\n",
       "    </tr>\n",
       "    <tr>\n",
       "      <th>3</th>\n",
       "      <td>business</td>\n",
       "      <td>004.txt</td>\n",
       "      <td>High fuel prices hit BA's profits</td>\n",
       "      <td>British Airways has blamed high fuel prices f...</td>\n",
       "      <td>1</td>\n",
       "    </tr>\n",
       "    <tr>\n",
       "      <th>4</th>\n",
       "      <td>business</td>\n",
       "      <td>005.txt</td>\n",
       "      <td>Pernod takeover talk lifts Domecq</td>\n",
       "      <td>Shares in UK drinks and food firm Allied Dome...</td>\n",
       "      <td>1</td>\n",
       "    </tr>\n",
       "  </tbody>\n",
       "</table>\n",
       "</div>"
      ],
      "text/plain": [
       "   category filename                              title  \\\n",
       "0  business  001.txt  Ad sales boost Time Warner profit   \n",
       "1  business  002.txt   Dollar gains on Greenspan speech   \n",
       "2  business  003.txt  Yukos unit buyer faces loan claim   \n",
       "3  business  004.txt  High fuel prices hit BA's profits   \n",
       "4  business  005.txt  Pernod takeover talk lifts Domecq   \n",
       "\n",
       "                                             content  business  \n",
       "0   Quarterly profits at US media giant TimeWarne...         1  \n",
       "1   The dollar has hit its highest level against ...         1  \n",
       "2   The owners of embattled Russian oil giant Yuk...         1  \n",
       "3   British Airways has blamed high fuel prices f...         1  \n",
       "4   Shares in UK drinks and food firm Allied Dome...         1  "
      ]
     },
     "execution_count": 20,
     "metadata": {},
     "output_type": "execute_result"
    }
   ],
   "source": [
    "df.head()"
   ]
  },
  {
   "cell_type": "markdown",
   "id": "2585b8ba",
   "metadata": {},
   "source": [
    "2. Nettoyage du texte¶\n",
    "Nous appliquons les étapes du pré-processing ici:la normalisation du texte\n",
    "2.1. Nettoyage et stemmatisation"
   ]
  },
  {
   "cell_type": "code",
   "execution_count": 22,
   "id": "87607b03",
   "metadata": {},
   "outputs": [],
   "source": [
    "# Définition de la liste de stop words considérés (celle de spacy + lettres)\n",
    "stopWords = [\n",
    "    'a', 'about', 'above', 'across', 'after', 'afterwards', 'again', 'against', 'all', 'almost', 'alone', 'along', 'already', 'also', \n",
    "    'although', 'always', 'am', 'among', 'amongst', 'amount', 'an', 'and', 'another', 'any', 'anyhow', 'anyone', 'anything', 'anyway', \n",
    "    'anywhere', 'are', 'around', 'as', 'at', 'b', 'back', 'be', 'became', 'because', 'become', 'becomes', 'becoming', 'been', 'before', \n",
    "    'beforehand', 'behind', 'being', 'below', 'beside', 'besides', 'between', 'beyond', 'bill', 'both', 'bottom', 'but', 'by', 'c', \n",
    "    'call', 'can', 'cannot', 'cant', 'co', 'con', 'could', 'couldnt', 'cry', 'd', 'de', 'describe', 'detail', 'do', 'done', 'down', \n",
    "    'due', 'during', 'e', 'each', 'eg', 'eight', 'either', 'eleven', 'else', 'elsewhere', 'empty', 'enough', 'etc', 'even', 'ever', \n",
    "    'every', 'everyone', 'everything', 'everywhere', 'except', 'f', 'few', 'fifteen', 'fify', 'fill', 'find', 'fire', 'first', 'five', \n",
    "    'for', 'former', 'formerly', 'forty', 'found', 'four', 'from', 'front', 'full', 'further', 'g', 'get', 'give', 'go', 'h', 'had', \n",
    "    'has', 'hasnt', 'have', 'he', 'hence', 'her', 'here', 'hereafter', 'hereby', 'herein', 'hereupon', 'hers', 'herself', 'him', \n",
    "    'himself', 'his', 'how', 'however', 'hundred', 'i', 'ie', 'if', 'in', 'inc', 'indeed', 'into', 'is', 'it', 'its', 'itself', 'j', \n",
    "    'k', 'keep', 'l', 'last', 'latter', 'latterly', 'least', 'less', 'ltd', 'm', 'made', 'many', 'may', 'me', 'meanwhile', 'might', \n",
    "    'mill', 'mine', 'more', 'moreover', 'most', 'mostly', 'move', 'much', 'must', 'my', 'myself', 'n', 'name', 'namely', 'neither', \n",
    "    'never', 'nevertheless', 'next', 'nine', 'no', 'nobody', 'none', 'noone', 'nor', 'not', 'nothing', 'now', 'nowhere', 'o', 'of', \n",
    "    'off', 'often', 'on', 'once', 'one', 'only', 'onto', 'or', 'other', 'others', 'otherwise', 'our', 'ours', 'ourselves', 'out', \n",
    "    'over', 'own', 'p', 'part', 'per', 'perhaps', 'please', 'put', 'q', 'r', 'rather', 're', 's', 'same', 'see', 'seem', 'seemed', \n",
    "    'seeming', 'seems', 'serious', 'several', 'she', 'should', 'show', 'side', 'since', 'sincere', 'six', 'sixty', 'so', 'some', \n",
    "    'somehow', 'someone', 'something', 'sometime', 'sometimes', 'somewhere', 'still', 'such', 'system', 't', 'take', 'ten', 'than', \n",
    "    'that', 'the', 'their', 'them', 'themselves', 'then', 'thence', 'there', 'thereafter', 'thereby', 'therefore', 'therein', \n",
    "    'thereupon', 'these', 'they', 'thickv', 'thin', 'third', 'this', 'those', 'though', 'three', 'through', 'throughout', 'thru', \n",
    "    'thus', 'to', 'together', 'too', 'top', 'toward', 'towards', 'twelve', 'twenty', 'two', 'u', 'under', 'until', 'up', 'upon', \n",
    "    'us', 'very', 'via', 'was', 'we', 'well', 'were', 'what', 'whatever', 'when', 'whence', 'whenever', 'where', 'whereafter', \n",
    "    'whereas', 'whereby', 'wherein', 'whereupon', 'wherever', 'whether', 'which', 'while', 'whither', 'who', 'whoever', 'whole', \n",
    "    'whom', 'whose', 'why', 'will', 'with', 'within', 'without', 'would', 'yet', 'you', 'your', 'yours', 'yourself', 'yourselves', \n",
    "    'z', 'qu'\n",
    "]\n",
    "stopWords = [unidecode(sw) for sw in stopWords]\n",
    "\n",
    "# Création du stemmer\n",
    "stemmer = SnowballStemmer('english')"
   ]
  },
  {
   "cell_type": "code",
   "execution_count": 23,
   "id": "76f6a5c4",
   "metadata": {},
   "outputs": [],
   "source": [
    "# Création d'une fonction pour supprimer les sw\n",
    "def no_stop_word(string, stopWords):\n",
    "\n",
    "    \"\"\"\n",
    "    Supprime les stop words d'un texte.\n",
    "\n",
    "    Paramètres\n",
    "    ----------\n",
    "\n",
    "    string : chaine de caractère.\n",
    "\n",
    "    stopWords : liste de mots à exclure. \n",
    "    \n",
    "    ----------\n",
    "    Sortie : string sans stopWords\n",
    "    \"\"\"\n",
    "    \n",
    "    string = ' '.join([word for word in string.split() if word not in stopWords])\n",
    "    return string\n",
    "\n",
    "# Création d'une fonction pour stemmatiser chaque mot d'un text \n",
    "def stemmatise_text(text, stemmer):\n",
    "\n",
    "    \"\"\"\n",
    "    Stemmatise un texte : Ramène les mots d'un texte à leur racine (peut créer des mots qui n'existe pas).\n",
    "\n",
    "    Paramètres\n",
    "    ----------\n",
    "\n",
    "    text : Chaine de caractères.\n",
    "\n",
    "    stemmer : Stemmer de NLTK.\n",
    "    \n",
    "    ----------\n",
    "    Sortie : string qui contient la forme stemmatisée des mots\n",
    "    \"\"\"\n",
    "    \n",
    "    string = \" \".join([stemmer.stem(word) for word in text.split()])\n",
    "\n",
    "    return string"
   ]
  },
  {
   "cell_type": "code",
   "execution_count": 26,
   "id": "35d46044",
   "metadata": {},
   "outputs": [],
   "source": [
    "def stem_cleaner(pandasSeries, stemmer, stopWords):\n",
    "    \n",
    "    print(\"#### Nettoyage en cours ####\") # Mettre des print vous permet de comprendre où votre code rencontre des problèmes en cas de bug\n",
    "    \n",
    "    # confirmation que chaque article est bien de type str\n",
    "    pandasSeries = pandasSeries.apply(lambda x : str(x))\n",
    "    \n",
    "    # Passage en minuscule\n",
    "    print(\"... Passage en minuscule\") \n",
    "    pandasSeries = pandasSeries.apply(lambda x : x.lower())\n",
    "    \n",
    "    # Suppression des accents\n",
    "    #print(\"... Suppression des accents\") \n",
    "    #pandasSeries = pandasSeries.apply(lambda x: unidecode(x))\n",
    "    \n",
    "    # Détection du champs année, c'est pour l'exemple, l'articles de business contient les années \n",
    "   \n",
    "    # Changement de chaque année numérique en 'annee' en utilisant une regex\n",
    "    print(\"... Détection du champs année\") \n",
    "    pandasSeries = pandasSeries.apply(lambda x: re.sub(r\"[0-9]{4}\",\"annee\",x))\n",
    "    \n",
    "    # Suppression des caractères spéciaux et numériques\n",
    "    # Garder uniquement les lettres a-z en utilisant une regex\n",
    "    print(\"... Suppression des caractères spéciaux et numériques\") \n",
    "    pandasSeries = pandasSeries.apply(lambda x:re.sub(r\"[^a-z]+\",\" \",x))\n",
    "    \n",
    "    # Suppression des stop words (appliquer la fonction no_stop_word créée ci-dessus)\n",
    "    print(\"... Suppression des stop words\") \n",
    "    pandasSeries = pandasSeries.apply(lambda x:no_stop_word(x, stopWords))\n",
    "    \n",
    "    # Stemmatisation (appliquer la fonction stemmatise_text créée ci-dessus)\n",
    "    print(\"... Stemmatisation\") \n",
    "    pandasSeries = pandasSeries.apply(lambda x:stemmatise_text(x, stemmer))\n",
    "    \n",
    "    print(\"#### Nettoyage OK! ####\")\n",
    "\n",
    "    return pandasSeries"
   ]
  },
  {
   "cell_type": "code",
   "execution_count": 27,
   "id": "2a7629e2",
   "metadata": {},
   "outputs": [
    {
     "name": "stdout",
     "output_type": "stream",
     "text": [
      "#### Nettoyage en cours ####\n",
      "... Passage en minuscule\n",
      "... Détection du champs année\n",
      "... Suppression des caractères spéciaux et numériques\n",
      "... Suppression des stop words\n",
      "... Stemmatisation\n",
      "#### Nettoyage OK! ####\n",
      "CPU times: total: 18.6 s\n",
      "Wall time: 27.8 s\n"
     ]
    },
    {
     "data": {
      "text/html": [
       "<div>\n",
       "<style scoped>\n",
       "    .dataframe tbody tr th:only-of-type {\n",
       "        vertical-align: middle;\n",
       "    }\n",
       "\n",
       "    .dataframe tbody tr th {\n",
       "        vertical-align: top;\n",
       "    }\n",
       "\n",
       "    .dataframe thead th {\n",
       "        text-align: right;\n",
       "    }\n",
       "</style>\n",
       "<table border=\"1\" class=\"dataframe\">\n",
       "  <thead>\n",
       "    <tr style=\"text-align: right;\">\n",
       "      <th></th>\n",
       "      <th>content</th>\n",
       "      <th>content_stem</th>\n",
       "    </tr>\n",
       "  </thead>\n",
       "  <tbody>\n",
       "    <tr>\n",
       "      <th>0</th>\n",
       "      <td>Quarterly profits at US media giant TimeWarne...</td>\n",
       "      <td>quarter profit media giant timewarn jump bn mo...</td>\n",
       "    </tr>\n",
       "    <tr>\n",
       "      <th>1</th>\n",
       "      <td>The dollar has hit its highest level against ...</td>\n",
       "      <td>dollar hit highest level euro month feder rese...</td>\n",
       "    </tr>\n",
       "    <tr>\n",
       "      <th>2</th>\n",
       "      <td>The owners of embattled Russian oil giant Yuk...</td>\n",
       "      <td>owner embattl russian oil giant yuko ask buyer...</td>\n",
       "    </tr>\n",
       "    <tr>\n",
       "      <th>3</th>\n",
       "      <td>British Airways has blamed high fuel prices f...</td>\n",
       "      <td>british airway blame high fuel price drop prof...</td>\n",
       "    </tr>\n",
       "    <tr>\n",
       "      <th>4</th>\n",
       "      <td>Shares in UK drinks and food firm Allied Dome...</td>\n",
       "      <td>share uk drink food firm alli domecq risen spe...</td>\n",
       "    </tr>\n",
       "  </tbody>\n",
       "</table>\n",
       "</div>"
      ],
      "text/plain": [
       "                                             content  \\\n",
       "0   Quarterly profits at US media giant TimeWarne...   \n",
       "1   The dollar has hit its highest level against ...   \n",
       "2   The owners of embattled Russian oil giant Yuk...   \n",
       "3   British Airways has blamed high fuel prices f...   \n",
       "4   Shares in UK drinks and food firm Allied Dome...   \n",
       "\n",
       "                                        content_stem  \n",
       "0  quarter profit media giant timewarn jump bn mo...  \n",
       "1  dollar hit highest level euro month feder rese...  \n",
       "2  owner embattl russian oil giant yuko ask buyer...  \n",
       "3  british airway blame high fuel price drop prof...  \n",
       "4  share uk drink food firm alli domecq risen spe...  "
      ]
     },
     "execution_count": 27,
     "metadata": {},
     "output_type": "execute_result"
    }
   ],
   "source": [
    "%%time \n",
    "df['content_stem'] = stem_cleaner(df['content'], stemmer, stopWords)\n",
    "\n",
    "df[['content', 'content_stem']].head()"
   ]
  },
  {
   "cell_type": "code",
   "execution_count": 28,
   "id": "16f17dcf",
   "metadata": {},
   "outputs": [
    {
     "data": {
      "text/html": [
       "<div>\n",
       "<style scoped>\n",
       "    .dataframe tbody tr th:only-of-type {\n",
       "        vertical-align: middle;\n",
       "    }\n",
       "\n",
       "    .dataframe tbody tr th {\n",
       "        vertical-align: top;\n",
       "    }\n",
       "\n",
       "    .dataframe thead th {\n",
       "        text-align: right;\n",
       "    }\n",
       "</style>\n",
       "<table border=\"1\" class=\"dataframe\">\n",
       "  <thead>\n",
       "    <tr style=\"text-align: right;\">\n",
       "      <th></th>\n",
       "      <th>content</th>\n",
       "      <th>content_stem</th>\n",
       "    </tr>\n",
       "  </thead>\n",
       "  <tbody>\n",
       "    <tr>\n",
       "      <th>2220</th>\n",
       "      <td>BT is introducing two initiatives to help bea...</td>\n",
       "      <td>bt introduc initi help beat rogu dialler scam ...</td>\n",
       "    </tr>\n",
       "    <tr>\n",
       "      <th>2221</th>\n",
       "      <td>Computer users across the world continue to i...</td>\n",
       "      <td>comput user world continu ignor secur warn spa...</td>\n",
       "    </tr>\n",
       "    <tr>\n",
       "      <th>2222</th>\n",
       "      <td>A new European directive could put software w...</td>\n",
       "      <td>new european direct softwar writer risk legal ...</td>\n",
       "    </tr>\n",
       "    <tr>\n",
       "      <th>2223</th>\n",
       "      <td>The man making sure US computer networks are ...</td>\n",
       "      <td>man make sure comput network safe secur resign...</td>\n",
       "    </tr>\n",
       "    <tr>\n",
       "      <th>2224</th>\n",
       "      <td>Online role playing games are time-consuming,...</td>\n",
       "      <td>onlin role play game time consum enthral fligh...</td>\n",
       "    </tr>\n",
       "  </tbody>\n",
       "</table>\n",
       "</div>"
      ],
      "text/plain": [
       "                                                content  \\\n",
       "2220   BT is introducing two initiatives to help bea...   \n",
       "2221   Computer users across the world continue to i...   \n",
       "2222   A new European directive could put software w...   \n",
       "2223   The man making sure US computer networks are ...   \n",
       "2224   Online role playing games are time-consuming,...   \n",
       "\n",
       "                                           content_stem  \n",
       "2220  bt introduc initi help beat rogu dialler scam ...  \n",
       "2221  comput user world continu ignor secur warn spa...  \n",
       "2222  new european direct softwar writer risk legal ...  \n",
       "2223  man make sure comput network safe secur resign...  \n",
       "2224  onlin role play game time consum enthral fligh...  "
      ]
     },
     "execution_count": 28,
     "metadata": {},
     "output_type": "execute_result"
    }
   ],
   "source": [
    "df[['content', 'content_stem']].tail()"
   ]
  },
  {
   "cell_type": "markdown",
   "id": "5c9eeb22",
   "metadata": {},
   "source": [
    "4. Vectorisation et modélisation ¶\n",
    "Nous utilisons ici un modèle simple de Machine Learning\n",
    "\n",
    "4.1. Création du jeu de test et du jeu de train\n",
    "Dans les modules de Machine Learning, lorsqu'on entraine un modèle, il faut monitorer ses performances et sa capacité à se généraliser sur un nouveau jeu de données. C'est le compromis entre optimisation et généralisation.\n",
    "\n",
    "C'est pourquoi ici, nous créons :\n",
    "\n",
    "un jeu d'entrainement : Pour entainer notre algorithme\n",
    "un jeu de test : Pour tester la capacité de notre modèle à se généraliser\n",
    "Nous n'en dirons pas plus car ce n'est pas l'objet du module de texte."
   ]
  },
  {
   "cell_type": "code",
   "execution_count": 30,
   "id": "208d1256",
   "metadata": {},
   "outputs": [
    {
     "name": "stdout",
     "output_type": "stream",
     "text": [
      "Notre jeu de train contient 1780 observations.\n",
      "Notre jeu de test contient 445 observations.\n"
     ]
    }
   ],
   "source": [
    "train, test = train_test_split(df, \n",
    "                               random_state=42,     # Permet de fixer la répartition de nos données dans le train et le test\n",
    "                               test_size=0.2,       # Ici on reserve 20% de données pour le jeu de test\n",
    "                               stratify=df[\"business\"] # On s'assure d'avoir le même taux de cible dans le train et le test\n",
    "                              )\n",
    "\n",
    "for df_ in [train, test]:\n",
    "    df_.reset_index(drop=True, inplace=True)\n",
    "\n",
    "print(f\"Notre jeu de train contient {train.shape[0]} observations.\")\n",
    "print(f\"Notre jeu de test contient {test.shape[0]} observations.\")"
   ]
  },
  {
   "cell_type": "code",
   "execution_count": 31,
   "id": "b4a72b26",
   "metadata": {},
   "outputs": [
    {
     "data": {
      "text/html": [
       "<div>\n",
       "<style scoped>\n",
       "    .dataframe tbody tr th:only-of-type {\n",
       "        vertical-align: middle;\n",
       "    }\n",
       "\n",
       "    .dataframe tbody tr th {\n",
       "        vertical-align: top;\n",
       "    }\n",
       "\n",
       "    .dataframe thead th {\n",
       "        text-align: right;\n",
       "    }\n",
       "</style>\n",
       "<table border=\"1\" class=\"dataframe\">\n",
       "  <thead>\n",
       "    <tr style=\"text-align: right;\">\n",
       "      <th></th>\n",
       "      <th>category</th>\n",
       "      <th>filename</th>\n",
       "      <th>title</th>\n",
       "      <th>content</th>\n",
       "      <th>business</th>\n",
       "      <th>content_stem</th>\n",
       "    </tr>\n",
       "  </thead>\n",
       "  <tbody>\n",
       "    <tr>\n",
       "      <th>0</th>\n",
       "      <td>politics</td>\n",
       "      <td>185.txt</td>\n",
       "      <td>Police probe BNP mosque leaflet</td>\n",
       "      <td>Police are investigating a British National P...</td>\n",
       "      <td>0</td>\n",
       "      <td>polic investig british nation parti leaflet po...</td>\n",
       "    </tr>\n",
       "    <tr>\n",
       "      <th>1</th>\n",
       "      <td>entertainment</td>\n",
       "      <td>373.txt</td>\n",
       "      <td>British stars denied major Oscars</td>\n",
       "      <td>British hopes of winning major Oscars were da...</td>\n",
       "      <td>0</td>\n",
       "      <td>british hope win major oscar dash uk star fail...</td>\n",
       "    </tr>\n",
       "    <tr>\n",
       "      <th>2</th>\n",
       "      <td>sport</td>\n",
       "      <td>055.txt</td>\n",
       "      <td>Holmes is hit by hamstring injury</td>\n",
       "      <td>Kelly Holmes has been forced out of this week...</td>\n",
       "      <td>0</td>\n",
       "      <td>kelli holm forc weekend european indoor athlet...</td>\n",
       "    </tr>\n",
       "    <tr>\n",
       "      <th>3</th>\n",
       "      <td>tech</td>\n",
       "      <td>221.txt</td>\n",
       "      <td>Halo 2 heralds traffic explosion</td>\n",
       "      <td>The growing popularity of online gaming could...</td>\n",
       "      <td>0</td>\n",
       "      <td>grow popular onlin game spell problem net serv...</td>\n",
       "    </tr>\n",
       "    <tr>\n",
       "      <th>4</th>\n",
       "      <td>entertainment</td>\n",
       "      <td>040.txt</td>\n",
       "      <td>Wine comedy up for six film gongs</td>\n",
       "      <td>Sideways, a wine-tasting comedy starring Paul...</td>\n",
       "      <td>0</td>\n",
       "      <td>sideway wine tast comedi star paul giamatti in...</td>\n",
       "    </tr>\n",
       "  </tbody>\n",
       "</table>\n",
       "</div>"
      ],
      "text/plain": [
       "        category filename                              title  \\\n",
       "0       politics  185.txt    Police probe BNP mosque leaflet   \n",
       "1  entertainment  373.txt  British stars denied major Oscars   \n",
       "2          sport  055.txt  Holmes is hit by hamstring injury   \n",
       "3           tech  221.txt   Halo 2 heralds traffic explosion   \n",
       "4  entertainment  040.txt  Wine comedy up for six film gongs   \n",
       "\n",
       "                                             content  business  \\\n",
       "0   Police are investigating a British National P...         0   \n",
       "1   British hopes of winning major Oscars were da...         0   \n",
       "2   Kelly Holmes has been forced out of this week...         0   \n",
       "3   The growing popularity of online gaming could...         0   \n",
       "4   Sideways, a wine-tasting comedy starring Paul...         0   \n",
       "\n",
       "                                        content_stem  \n",
       "0  polic investig british nation parti leaflet po...  \n",
       "1  british hope win major oscar dash uk star fail...  \n",
       "2  kelli holm forc weekend european indoor athlet...  \n",
       "3  grow popular onlin game spell problem net serv...  \n",
       "4  sideway wine tast comedi star paul giamatti in...  "
      ]
     },
     "execution_count": 31,
     "metadata": {},
     "output_type": "execute_result"
    }
   ],
   "source": [
    "train.head()"
   ]
  },
  {
   "cell_type": "code",
   "execution_count": 32,
   "id": "6f8ce927",
   "metadata": {},
   "outputs": [
    {
     "data": {
      "text/html": [
       "<div>\n",
       "<style scoped>\n",
       "    .dataframe tbody tr th:only-of-type {\n",
       "        vertical-align: middle;\n",
       "    }\n",
       "\n",
       "    .dataframe tbody tr th {\n",
       "        vertical-align: top;\n",
       "    }\n",
       "\n",
       "    .dataframe thead th {\n",
       "        text-align: right;\n",
       "    }\n",
       "</style>\n",
       "<table border=\"1\" class=\"dataframe\">\n",
       "  <thead>\n",
       "    <tr style=\"text-align: right;\">\n",
       "      <th></th>\n",
       "      <th>category</th>\n",
       "      <th>filename</th>\n",
       "      <th>title</th>\n",
       "      <th>content</th>\n",
       "      <th>business</th>\n",
       "      <th>content_stem</th>\n",
       "    </tr>\n",
       "  </thead>\n",
       "  <tbody>\n",
       "    <tr>\n",
       "      <th>0</th>\n",
       "      <td>sport</td>\n",
       "      <td>019.txt</td>\n",
       "      <td>London hope over Chepkemei</td>\n",
       "      <td>London Marathon organisers are hoping that ba...</td>\n",
       "      <td>0</td>\n",
       "      <td>london marathon organis hope ban athlet susan ...</td>\n",
       "    </tr>\n",
       "    <tr>\n",
       "      <th>1</th>\n",
       "      <td>tech</td>\n",
       "      <td>224.txt</td>\n",
       "      <td>Disney backs Sony DVD technology</td>\n",
       "      <td>A next generation DVD technology backed by So...</td>\n",
       "      <td>0</td>\n",
       "      <td>generat dvd technolog back soni receiv major b...</td>\n",
       "    </tr>\n",
       "    <tr>\n",
       "      <th>2</th>\n",
       "      <td>tech</td>\n",
       "      <td>069.txt</td>\n",
       "      <td>'Friends fear' with lost mobiles</td>\n",
       "      <td>People are becoming so dependent on their mob...</td>\n",
       "      <td>0</td>\n",
       "      <td>peopl depend mobil phone concern lose phone me...</td>\n",
       "    </tr>\n",
       "    <tr>\n",
       "      <th>3</th>\n",
       "      <td>entertainment</td>\n",
       "      <td>294.txt</td>\n",
       "      <td>No UK premiere for Rings musical</td>\n",
       "      <td>The producers behind the Lord of the Rings mu...</td>\n",
       "      <td>0</td>\n",
       "      <td>produc lord ring music abandon plan premier lo...</td>\n",
       "    </tr>\n",
       "    <tr>\n",
       "      <th>4</th>\n",
       "      <td>tech</td>\n",
       "      <td>059.txt</td>\n",
       "      <td>Mobiles 'not media players yet'</td>\n",
       "      <td>Mobiles are not yet ready to be all-singing, ...</td>\n",
       "      <td>0</td>\n",
       "      <td>mobil readi sing danc multimedia devic replac ...</td>\n",
       "    </tr>\n",
       "  </tbody>\n",
       "</table>\n",
       "</div>"
      ],
      "text/plain": [
       "        category filename                             title  \\\n",
       "0          sport  019.txt        London hope over Chepkemei   \n",
       "1           tech  224.txt  Disney backs Sony DVD technology   \n",
       "2           tech  069.txt  'Friends fear' with lost mobiles   \n",
       "3  entertainment  294.txt  No UK premiere for Rings musical   \n",
       "4           tech  059.txt   Mobiles 'not media players yet'   \n",
       "\n",
       "                                             content  business  \\\n",
       "0   London Marathon organisers are hoping that ba...         0   \n",
       "1   A next generation DVD technology backed by So...         0   \n",
       "2   People are becoming so dependent on their mob...         0   \n",
       "3   The producers behind the Lord of the Rings mu...         0   \n",
       "4   Mobiles are not yet ready to be all-singing, ...         0   \n",
       "\n",
       "                                        content_stem  \n",
       "0  london marathon organis hope ban athlet susan ...  \n",
       "1  generat dvd technolog back soni receiv major b...  \n",
       "2  peopl depend mobil phone concern lose phone me...  \n",
       "3  produc lord ring music abandon plan premier lo...  \n",
       "4  mobil readi sing danc multimedia devic replac ...  "
      ]
     },
     "execution_count": 32,
     "metadata": {},
     "output_type": "execute_result"
    }
   ],
   "source": [
    "test.head()"
   ]
  },
  {
   "cell_type": "code",
   "execution_count": 35,
   "id": "1652b642",
   "metadata": {},
   "outputs": [
    {
     "name": "stdout",
     "output_type": "stream",
     "text": [
      "Le taux de cible du train est de 0.229\n",
      "Le taux de cible du test est de 0.229\n"
     ]
    }
   ],
   "source": [
    "# Contrôle des taux de cible\n",
    "print(f\"Le taux de cible du train est de {round(train['business'].sum()/len(train), 3)}\")\n",
    "print(f\"Le taux de cible du test est de {round(test['business'].sum()/len(test), 3)}\")"
   ]
  },
  {
   "cell_type": "markdown",
   "id": "5a08cbc4",
   "metadata": {},
   "source": [
    "4.2. Vectorisation\n",
    "Nous faisons le choix d'utiliser le TfidfVectorizer de scikit-learn.\n",
    "Un count vectorizer ou des plongements de mots pourrait être plus performant. Ca se test, tout comme le pré-processing !"
   ]
  },
  {
   "cell_type": "code",
   "execution_count": 36,
   "id": "1893176c",
   "metadata": {},
   "outputs": [
    {
     "name": "stdout",
     "output_type": "stream",
     "text": [
      "Le jeu de train contient 1780 obs et 568 features\n",
      "Le jeu de test contient 445 obs et 568 features\n",
      "\n",
      "Le nombre de features correspond à la taille de votre vocabulaire !\n"
     ]
    }
   ],
   "source": [
    "tfidf = TfidfVectorizer(min_df=100,        # Réduit le nombre de features\n",
    "                        ngram_range=(1, 3) # On inclu les unigrammes, les bigrammes et les trigrammes\n",
    "                       ) \n",
    "\n",
    "tfidf.fit(train.loc[:,('content_stem')].values.astype('U'))\n",
    "\n",
    "X_train_tfidf = tfidf.transform(train['content_stem'].values.astype('U')).toarray()\n",
    "X_test_tfidf = tfidf.transform(test['content_stem'].values.astype('U')).toarray()\n",
    " \n",
    "print(f\"Le jeu de train contient {X_train_tfidf.shape[0]} obs et {X_train_tfidf.shape[1]} features\") \n",
    "\n",
    "print(f\"Le jeu de test contient {X_test_tfidf.shape[0]} obs et {X_test_tfidf.shape[1]} features\") \n",
    "\n",
    "print('')\n",
    "\n",
    "print('Le nombre de features correspond à la taille de votre vocabulaire !')"
   ]
  },
  {
   "cell_type": "code",
   "execution_count": 41,
   "id": "b5a53953",
   "metadata": {},
   "outputs": [
    {
     "data": {
      "text/plain": [
       "0    0\n",
       "1    0\n",
       "2    0\n",
       "3    0\n",
       "4    0\n",
       "5    0\n",
       "6    1\n",
       "7    0\n",
       "8    0\n",
       "9    0\n",
       "Name: business, dtype: int64"
      ]
     },
     "execution_count": 41,
     "metadata": {},
     "output_type": "execute_result"
    }
   ],
   "source": [
    "y_train = train['business']\n",
    "y_test = test['business']\n",
    "\n",
    "y_train.head(10)"
   ]
  },
  {
   "cell_type": "markdown",
   "id": "a3cb3181",
   "metadata": {},
   "source": [
    "4.3. Modélisation¶\n",
    "Dans cette partie nous ne rentrerons pas dans le détail, l'idée est simplement de montrer comment entrainer un classifieur capable de classer nos documents.\n",
    "\n",
    "Ici nous faisons le choix d'utiliser un classifieur Bayesien Naif pour créer un modèle base line. Nous faisons ce choix, car il est très rapide à entrainer.\n",
    "\n",
    "Nous pouvons challenger ce modèle en améliorant le pre processing et en affinant le choix de l'algorithme.\n",
    "\n",
    "A savoir :\n",
    "Le modèle Bayésien naïf, également connu sous le nom de classificateur naïf de Bayes, est un modèle de classification probabiliste basé sur le théorème de Bayes. Il suppose que les caractéristiques sont indépendantes les unes des autres conditionnellement à la classe cible. Bien que cette hypothèse d'indépendance soit souvent simpliste et irréaliste dans la pratique, le modèle Bayésien naïf reste simple et efficace dans de nombreuses situations.\n",
    "\n",
    "Fonctionnement du modèle Bayésien naïf :\n",
    "Collecte des données : Tout d'abord, nous collectons un ensemble de données d'entraînement qui contient des exemples étiquetés, où chaque exemple est décrit par un ensemble de caractéristiques et une étiquette de classe.\n",
    "\n",
    "Calcul des probabilités a priori : Pour chaque classe possible, nous calculons la probabilité a priori de cette classe en comptant simplement le nombre d'exemples d'entraînement appartenant à cette classe et en le divisant par le nombre total d'exemples d'entraînement.\n",
    "\n",
    "Calcul des probabilités conditionnelles : Pour chaque caractéristique et pour chaque valeur possible de cette caractéristique, nous calculons la probabilité conditionnelle de cette valeur sachant la classe. Cela peut être fait en comptant le nombre d'exemples d'entraînement dans chaque classe pour lesquels cette caractéristique prend la valeur donnée, puis en le divisant par le nombre total d'exemples d'entraînement dans cette classe.\n",
    "\n",
    "Prédiction : Pour un nouvel exemple dont les caractéristiques sont connues mais dont la classe est inconnue, nous utilisons le théorème de Bayes pour calculer la probabilité conditionnelle de chaque classe donnée, les caractéristiques de cet exemple. La classe prédite est alors celle qui maximise cette probabilité conditionnelle.\n",
    "\n",
    "Évaluation du modèle : Une fois que le modèle a été entraîné et que des prédictions ont été faites sur un ensemble de données de test distinct, nous évaluons ses performances en comparant les étiquettes prédites avec les étiquettes réelles des exemples de test.\n",
    "\n",
    "Le principal avantage du modèle Bayésien naïf est sa simplicité et sa rapidité, ce qui le rend efficace pour de nombreux problèmes de classification, en particulier lorsque les données sont de haute dimensionnalité. Cependant, sa principale faiblesse réside dans son hypothèse d'indépendance conditionnelle, qui peut être trop simpliste pour certains ensembles de données où les caractéristiques sont fortement corrélées."
   ]
  },
  {
   "cell_type": "code",
   "execution_count": 42,
   "id": "cc888053",
   "metadata": {},
   "outputs": [
    {
     "name": "stdout",
     "output_type": "stream",
     "text": [
      "Train performances : 408 obs ... f1 score = 0.9471 ... precision = 0.9292 ... recall = 0.9657\n",
      "Test performances : 102 obs ... f1 score = 0.9372 ... precision = 0.9238 ... recall = 0.9510\n",
      "CPU times: total: 62.5 ms\n",
      "Wall time: 129 ms\n"
     ]
    }
   ],
   "source": [
    "%%time\n",
    "gssnNB = GaussianNB()\n",
    "gssnNB.fit(X_train_tfidf, y_train.values)\n",
    "\n",
    "y_predicted_train = gssnNB.predict(X_train_tfidf)\n",
    "y_predicted_test = gssnNB.predict(X_test_tfidf)\n",
    "    \n",
    "print('Train performances : {} obs ... f1 score = {:0.4f} ... precision = {:0.4f} ... recall = {:0.4f}'.format(sum(y_train.values), \n",
    "                                                                                                                   f1_score(y_train.values,y_predicted_train),\n",
    "                                                                                                                   precision_score(y_train.values, y_predicted_train),\n",
    "                                                                                                                   recall_score(y_train.values, y_predicted_train)))\n",
    "\n",
    "print('Test performances : {} obs ... f1 score = {:0.4f} ... precision = {:0.4f} ... recall = {:0.4f}'.format(sum(y_test.values), \n",
    "                                                                                                                  f1_score(y_test.values, y_predicted_test),\n",
    "                                                                                                                  precision_score(y_test.values, y_predicted_test),\n",
    "                                                                                                                  recall_score(y_test.values, y_predicted_test)))"
   ]
  },
  {
   "cell_type": "markdown",
   "id": "84c18836",
   "metadata": {},
   "source": [
    "On constate que le modèle Bayésien naïf est performant pour prédire si on a un article de business ou pas, car les mesures de performance sont proches de 1 et sont sensiblement les mêmes pour Train performances, que pour Test performances."
   ]
  },
  {
   "cell_type": "markdown",
   "id": "3e8f63f0",
   "metadata": {},
   "source": [
    "Le F1-score est une mesure de performance couramment utilisée pour évaluer les modèles de classification, en particulier lorsque les classes sont déséquilibrées. Il est calculé à partir des métriques de rappel (recall) et de précision (precision) et est une moyenne harmonique de ces deux mesures.\n",
    "\n",
    "Précision (Precision)\n",
    "La précision est le nombre de vrais positifs (TP) divisé par le nombre total de prédictions positives (TP + FP). En d'autres termes, c'est la proportion des prédictions positives qui sont correctes.\n",
    "\n",
    "𝑃𝑟𝑒𝑐𝑖𝑠𝑖𝑜𝑛=𝑇𝑃𝑇𝑃+𝐹𝑃\n",
    " \n",
    "Rappel (Recall)\n",
    "Le rappel est le nombre de vrais positifs (TP) divisé par le nombre total d'instances qui sont réellement positives (TP + FN). En d'autres termes, c'est la proportion des instances positives qui ont été correctement prédites.\n",
    "\n",
    "𝑅𝑒𝑐𝑎𝑙𝑙=𝑇𝑃𝑇𝑃+𝐹𝑁\n",
    " \n",
    "F1-score\n",
    "Le F1-score est la moyenne harmonique de la précision et du rappel. Il est calculé comme suit :\n",
    "\n",
    "𝐹1=2∗𝑃𝑟𝑒𝑐𝑖𝑠𝑖𝑜𝑛∗𝑅𝑒𝑐𝑎𝑙𝑙𝑃𝑟𝑒𝑐𝑖𝑠𝑖𝑜𝑛+𝑅𝑒𝑐𝑎𝑙𝑙\n",
    " \n",
    "Le F1-score est utile lorsque vous voulez avoir un équilibre entre la précision et le rappel. Il atteint sa meilleure valeur à 1 et sa pire valeur à 0. Une haute valeur de F1 indique à la fois une précision et un rappel élevés, ce qui signifie que le modèle a bien prédit à la fois les vrais positifs et les vrais négatifs. C'est particulièrement important lorsque les classes sont déséquilibrées, car une précision élevée peut être obtenue simplement en prédisant toujours la classe majoritaire, mais cela entraînera généralement un rappel très faible pour la classe minoritaire.\n",
    "\n",
    "En résumé, le F1-score est une mesure utile pour évaluer la performance d'un modèle de classification, en particulier dans les cas où les classes sont déséquilibrées et où vous voulez un équilibre entre la précision et le rappel."
   ]
  }
 ],
 "metadata": {
  "kernelspec": {
   "display_name": "Python 3 (ipykernel)",
   "language": "python",
   "name": "python3"
  },
  "language_info": {
   "codemirror_mode": {
    "name": "ipython",
    "version": 3
   },
   "file_extension": ".py",
   "mimetype": "text/x-python",
   "name": "python",
   "nbconvert_exporter": "python",
   "pygments_lexer": "ipython3",
   "version": "3.11.7"
  }
 },
 "nbformat": 4,
 "nbformat_minor": 5
}
